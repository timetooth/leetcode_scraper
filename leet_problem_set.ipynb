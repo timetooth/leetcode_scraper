{
 "cells": [
  {
   "cell_type": "code",
   "execution_count": 21,
   "id": "32f8cca6",
   "metadata": {},
   "outputs": [],
   "source": [
    "import requests\n",
    "import pandas as pd"
   ]
  },
  {
   "cell_type": "code",
   "execution_count": null,
   "id": "7dccdca4",
   "metadata": {},
   "outputs": [
    {
     "name": "stdout",
     "output_type": "stream",
     "text": [
      "<!DOCTYPE html><html lang=\"en-US\"><head><title>Just a moment...</title><meta http-equiv=\"Content-Type\" content=\"text/html; charset=UTF-8\"><meta http-equiv=\"X-UA-Compatible\" content=\"IE=Edge\"><meta name=\"robots\" content=\"noindex,nofollow\"><meta name=\"viewport\" content=\"width=device-width,initial-scale=1\"><style>*{box-sizing:border-box;margin:0;padding:0}html{line-height:1.15;-webkit-text-size-adjust:100%;color:#313131;font-family:system-ui,-apple-system,BlinkMacSystemFont,Segoe UI,Roboto,Helvetica Neue,Arial,Noto Sans,sans-serif,Apple Color Emoji,Segoe UI Emoji,Segoe UI Symbol,Noto Color Emoji}body{display:flex;flex-direction:column;height:100vh;min-height:100vh}.main-content{margin:8rem auto;max-width:60rem;padding-left:1.5rem}@media (width <= 720px){.main-content{margin-top:4rem}}.h2{font-size:1.5rem;font-weight:500;line-height:2.25rem}@media (width <= 720px){.h2{font-size:1.25rem;line-height:1.5rem}}#challenge-error-text{background-image:url(data:image/svg+xml;base64,PHN2ZyB4bWxucz0iaHR0cDovL3d3dy53My5vcmcvMjAwMC9zdmciIHdpZHRoPSIzMiIgaGVpZ2h0PSIzMiIgZmlsbD0ibm9uZSI+PHBhdGggZmlsbD0iI0IyMEYwMyIgZD0iTTE2IDNhMTMgMTMgMCAxIDAgMTMgMTNBMTMuMDE1IDEzLjAxNSAwIDAgMCAxNiAzbTAgMjRhMTEgMTEgMCAxIDEgMTEtMTEgMTEuMDEgMTEuMDEgMCAwIDEtMTEgMTEiLz48cGF0aCBmaWxsPSIjQjIwRjAzIiBkPSJNMTcuMDM4IDE4LjYxNUgxNC44N0wxNC41NjMgOS41aDIuNzgzem0tMS4wODQgMS40MjdxLjY2IDAgMS4wNTcuMzg4LjQwNy4zODkuNDA3Ljk5NCAwIC41OTYtLjQwNy45ODQtLjM5Ny4zOS0xLjA1Ny4zODktLjY1IDAtMS4wNTYtLjM4OS0uMzk4LS4zODktLjM5OC0uOTg0IDAtLjU5Ny4zOTgtLjk4NS40MDYtLjM5NyAxLjA1Ni0uMzk3Ii8+PC9zdmc+);background-repeat:no-repeat;background-size:contain;padding-left:34px}@media (prefers-color-scheme:dark){body{background-color:#222;color:#d9d9d9}}</style><meta http-equiv=\"refresh\" content=\"390\"></head><body class=\"no-js\"><div class=\"main-wrapper\" role=\"main\"><div class=\"main-content\"><noscript><div class=\"h2\"><span id=\"challenge-error-text\">Enable JavaScript and cookies to continue</span></div></noscript></div></div><script>(function(){window._cf_chl_opt={cvId: '3',cZone: \"leetcode.com\",cType: 'managed',cRay: '92e17ff91eef5472',cH: 'l.Pw..v5v38OdaipnH8EHKbaa_eHuNUTcVeaqtv29RU-1744280303-1.2.1.1-7RQikzo0myBbMDVnyMEcw1AKjtenFYfDTzG1gEu3T6jYXlcBReJBXxyhoANsLFO2',cUPMDTk: \"\\/two-sum\\/solutions\\/?__cf_chl_tk=BjuGSsc1CVGjSCQ5htdZIe9uX4Lgs709pG6bJOytYUI-1744280303-1.0.1.1-j3w_DMCkbPHqTawwRuy5vPW5g145XjI6helY.7Whpj4\",cFPWv: 'b',cITimeS: '1744280303',cTTimeMs: '1000',cMTimeMs: '390000',cTplC: 0,cTplV: 5,cTplB: 'cf',cK: \"unsupported_browser_beacon\",fa: \"\\/two-sum\\/solutions\\/?__cf_chl_f_tk=BjuGSsc1CVGjSCQ5htdZIe9uX4Lgs709pG6bJOytYUI-1744280303-1.0.1.1-j3w_DMCkbPHqTawwRuy5vPW5g145XjI6helY.7Whpj4\",md: \"IoDtXjS2pPCjSo61hgoROCBuOAtpUK8V0Sdmbfk.t6A-1744280303-1.2.1.1-KfMHVKi1CA75HHoTg4mWWbCTeRb8czAMhtqtuFsJeU5qiN8oUqh_9hMdRAHECoi0BcuiNShBbKAIXFCGNyke4KH7.U441zPxfh_4gVmtGNjiO.D_MG8kgivyi0H0bcFULuxTBhSt39bij_qzjgPcXDz7VoVOLat9Ys5mQj66Z28H1wkZipq_2C5MbkeZPIxM7i7tidV3UxcS5a0x491LT0Uf6Dj_uPER7lc7Nff2SCEqPFbngUytKNxB6ia9liN6Qdcds6Gc0CyZiJ_CZuoYONGQhDRcCMgAzO04PejrXZLXyQ7O.S.jqE5qTEMTiLPEliwddboAHtb8uyrEKnn_JRMWahyoszaDU0hSPpEnvc9E6iAwCqbC.FaUZstZZNTOojs1fUkZegZBc990Byz908OwRjuT_4kqvhH7uXtxUvTiDwz2Yibf6THSzuCeSISdvZWCLwEVFETRn9.nVDP3_QpUBKjVyrR6yPMMp.94JFJqxXEe89Hx9Dff6Me_n0h48w9pL1dNQ7GRTWWDQqmZiPMQJeQC3RKCVChFSH733uUt8RBya9952hvIKdzWlatddO6Bq6ceEUrNlHOA.sNqjsi8gxX01EV__Ye3oDJSk04BxvN0LfIEi9HdVRj9nmfJiGY6yAu08IezidOrgOoRLcDC7MTBZlrhRdSqh1iQobv7Q5GFq.5_In6fhYFpz4YN7kzhBKxB6ZoA7s4ZfV1lYJIMGgsZLRaM9_rUpbWnyiX4t5MElzsN71Zx4Ps9uPyEFOgh9YS6zFcqK2lNSerFi.EyO8qU2EXDjGCLWQhNpS_Cigo.W82Iqorv9rwskrPfxD66TaGLzbpnQqlB.nuHdxx9KXvfbM1ITfsUr6vgqAldMmmPSMDtcPg9l7Z.680DGmwIb6WwBpxwdknQCtSIYkqcmDjrbhMqFSAQIr3wgue8ODqBuV.BJXGyGkWYEY55UwX7ouUdB.U9.VvUuuG3hhSnQq.nhzlgkVPOgn8sbTpHr_guuY3IrGCEaqMLe2l1jBXaFReqvERBHH2LBOrBeZNx4P2AWtyKSOXaCpDRClCHPj.zO0ak19oKChQkWq5w\",mdrd: \"zCBQC.pSGYDKEch1XKv9Drvqsq5FR_hgAtmC4Db2Xc0-1744280303-1.2.1.1-phfahmIPjhP4aG2uxrOXJf.k3bjECmi1Hx_8ekK9aJNkE6y4JToLS_2FwWgIxLAtOR7hSZDz4DvZskr76Rn3v5isw6srBtj_5Dj3uQ2RfQfxMF_wFJ37ZR07qfOga79QRU0MO1D5TfucVJvYxLU0I42.S5ptGEpvskbtMMBheljCyzO3HLV88L2xkRKYUeYS3MtqGkezjgg.D0ym0zbOwzWxe2z8AsE_VEBQx3yxwBJ1BsDFcwodNSZgSniot.kMDYOSZy__m14AqPaJrI2hG7sVZRNHTAWlCG0WUzPVzmexOOTlEuhcP04FbICc6uetLRUjSXY2CcqEpBqPytf8DTBfA_2GRDNL69qCYnc7q4MTeeJQviLLOF1xWB2IdAAXHUz0JT.adfXNhNs8038rnk43_vntPzDioJxcYZmh1EyxZ9cqhuOIt9y58xoViYBE2GXoWp4am38rBJxZ2rXP6VBJJkk60aWyNv3FsZ6Cyu5XyviWHwvQZaAjIB94cB.bo29bBVWCnaCbzbHgtlqUtedDwdUcHK1li_XF1Fr42_iDG.QFR0GHzCg.deb_fD8.ExpE5Ut7BUtXTl1wMVh6W3UHfB89c5Is.yx9ejIChCiEAW2BSKht.zjpRF2_6rXwbjSFZQTBoBDO53PLGWsgsAFQut5Q7Y9hYEiqNKJ2sNYSar9J99klvM2D8VsYPC4EdFMqhR9xtm_AgZfw8DnMSUYESVQW1E0uN5Z9xYfvBJ0HUlAqupm6XwVu26525h2brxyKSW3pFtUfK0VZJXr0bo2xneDjwiDHqoF8uWRRFMMY5_4sAlAKsE2TIft009ED9lu4bqxPtNjuCl_TMPaVs6de.sOpuBdEW0Lxp7Oi_ZqESi5KOLc8383JLlxVO.leeQmTGXqBbyWHGWNn5pmS_4anGfBUA_KqJUqVP3sqd1rvI_a1caaJpYuFMTzOvjjaaZdpkOkwT3GDGTfr5vKvTjrqxgoRIX40j7K.ksq1vQC1PCZPPC.amnE3RjjKo.kfnu243lbKagKp156u0L7D_Hasfv3R3tCVEXSnX2iaUOJTZYahJW5_dqMwCoiZnaTVCmJnGItzmnLCaGqcVI8ll.rh5TI1woMDE.CUcdZ61upehB5UFs0g_ztLtl90GI1vsAkuqnowBksF9.da9EZ2Ov4JELY1WTuqnkXnvAK2gxlhPMYu5e0XI46jTto2vyDXR2k4OL9owOkiTJresMZCyQylkAa5PH79fHTeqkR2FzvANYHgksTD7hb9o_qd8ZywoCwK5sNUTgRxKSskv0B7ajbdfBK3_B8n2W4CQPbugyed4MIrNGVk9sI9kCI5rLve25NG72uE_0P63A26iZ2YI_5SKmW9HLHYy_K0pcxsxQYVfV0GKyZxJCWbAQQwfWZiKMVLRo0Qusjv.ICWzOW9uBo4Oam7Ax9ay2U_BlCnHacOsBtN19oAS3BgyeWJnrUj8AtxCGkP2PYrEVSC06TnZXYOKFIJjfuVu3z63qPrrCAMnNr2f3ATobpd6TICJbbDqcoQKcBIfWYUGrZbjb3OYOIjrW9masCg3135vl3klyeZ0RLoprI4PQJOo4uCpjscIywhyT4FushNh6e.QYupc462tFHng.8AhGmC06KZtPxnuA3jPdGzTnck8eJYgkPoQl_qGEVfPwLd2z8xmRooJueKpI6g9MEDtyGRkUjeqYCFOQXLRyjGgLBMoYxDqDWPh.MXkRRMeAIHVWrWcjjc1nN8AnSs0gWbuZC7jT_PMG6qMO1HFgOkFPYfIu.wC_h_telSHswz.5A73JTCdJK4HhdcdKftSRGlSt14ks9WLA.dTbk13blfeamh7ge7AP_HvI_V0y8P0IcKaomajawUB6Ja92cZgzY86Ni0gUk81lEThXLgHiI9i_S_mKOeZqn6M9pjScGzFTGZnNxA4gAvb60Gtn0JyEjJEKFJrA4O3w5IJ_KA5LHCLUfqcc.OrLmMtPsrep801wvN9lZLUWseo6Ks_WDRuqtQ01B3cvFZ_uejDa1.I8lnwrNItPU6wPmnvoeHd.6yDz0Rg.9.RVbmicqSy450v7G7aULzgis_5BdT0rdLIQgK.IATu.hksEKlzggGOE7Hsgbjy400j1DTqI9bCL3N6Vd_NOwRMgnkaA5VpTVUsL0HePLl0o47eY6nC4ol.99MpFdg3Uw7uYXiOTh3rn.lal64nLYRepwEiuuGeSg_iYpduN05TCH..Ekocq_xHfxME7zkk8YDSORz1apolQtH438nBrab6YugOCpEYRdYCdW7jwRzy.eTpLS.CamyKWD22.xiGghi1anhdM636MEKZKmnBooHu7pgrhz_j9MqWG2.JdRZWK8lLZG_sFd1FbFy51iyiktL3qz904SFW0Oa6ShXTuxgX0BjtDtJ6QPa2TnGZTW.olqa9L_0nhUgC6GRiz9OKG.zvHiKkal4h4K5D_6VYOSyd3YB4MZvarjGmf50GfIa7q0ceFtjzL9VjyZI8qZlDyXoW8g.w9CXL9isvD8DCR_0GgowdxIeB10qST3vdlEyUxj61yDNgx7pZFmj8RdSXuxhWYGhZEfpd2HUJZIUookm_XGAWfJ9Rl0rijfBUfBlDdqFfEjcqizdVE.Lvi.Cwy4RAD.uP8ycLG_AQaf9fTBYzmJjoSif_EW9I9_Jn7sKTwxIq5dBr04jiZkHmNX7dtfAnGPyY.MU77G4mIE24WzU2vM45f0o4aQmko4QPBQzQW6EuF8kiaDYWUiUNjUTt6o_pVYOqoJYzqDgjKypWsLgBdwRP9NQWCOcyButqKAeh9Vy0.hUh1vginl.A2gkdZMt8E0BRCmtTWlMYl2OKU4O3gFYZmoGoMoBYonj_rc7dUrlIW8cRANyalTQLs6GzAb.6HXlcXtp98wpGqHxLT46DV7zkDqsF3CtQmZvm5Wh6n6RhT4bApCbRmZhe047TVSzMWE1Ww\"};var cpo = document.createElement('script');cpo.src = '/cdn-cgi/challenge-platform/h/b/orchestrate/chl_page/v1?ray=92e17ff91eef5472';window._cf_chl_opt.cOgUHash = location.hash === '' && location.href.indexOf('#') !== -1 ? '#' : location.hash;window._cf_chl_opt.cOgUQuery = location.search === '' && location.href.slice(0, location.href.length - window._cf_chl_opt.cOgUHash.length).indexOf('?') !== -1 ? '?' : location.search;if (window.history && window.history.replaceState) {var ogU = location.pathname + window._cf_chl_opt.cOgUQuery + window._cf_chl_opt.cOgUHash;history.replaceState(null, null, \"\\/two-sum\\/solutions\\/?__cf_chl_rt_tk=BjuGSsc1CVGjSCQ5htdZIe9uX4Lgs709pG6bJOytYUI-1744280303-1.0.1.1-j3w_DMCkbPHqTawwRuy5vPW5g145XjI6helY.7Whpj4\" + window._cf_chl_opt.cOgUHash);cpo.onload = function() {history.replaceState(null, null, ogU);}}document.getElementsByTagName('head')[0].appendChild(cpo);}());</script></body></html>\n"
     ]
    }
   ],
   "source": [
    "url = 'https://leetcode.com/graphql'\n",
    "\n",
    "headers = {\n",
    "    'authority': 'leetcode.com',\n",
    "    'method': 'POST',\n",
    "    'path': '/graphql/',\n",
    "    'scheme': 'https',\n",
    "    'accept': '*/*',\n",
    "    'accept-encoding': 'gzip, deflate, br, zstd',\n",
    "    'accept-language': 'en-US,en;q=0.9',\n",
    "    'content-type': 'application/json',\n",
    "    'origin': 'https://leetcode.com',\n",
    "    'referer': 'https://leetcode.com/problemset/',\n",
    "    'user-agent': 'Mozilla/5.0 (Macintosh; Intel Mac OS X 10_15_7)...',\n",
    "}\n",
    "\n",
    "data = {\n",
    "    \"query\": \"\"\"\\n    query problemsetQuestionList($categorySlug: String, $limit: Int, $skip: Int, $filters: QuestionListFilterInput) {\\n  problemsetQuestionList: questionList(\\n    categorySlug: $categorySlug\\n    limit: $limit\\n    skip: $skip\\n    filters: $filters\\n  ) {\\n    total: totalNum\\n    questions: data {\\n      acRate\\n      difficulty\\n      freqBar\\n      frontendQuestionId: questionFrontendId\\n      isFavor\\n      paidOnly: isPaidOnly\\n      status\\n      title\\n      titleSlug\\n      topicTags {\\n        name\\n        id\\n        slug\\n      }\\n      hasSolution\\n      hasVideoSolution\\n    }\\n  }\\n}\\n    \"\"\",\n",
    "    \"variables\": {\n",
    "        \"categorySlug\": \"all-code-essentials\",\n",
    "        \"skip\": 0,\n",
    "        \"limit\": 3511,\n",
    "        \"filters\": {}\n",
    "    }\n",
    "}\n",
    "\n",
    "response = requests.post(url, headers=headers, json=data)\n",
    "\n",
    "print(response.text)"
   ]
  },
  {
   "cell_type": "code",
   "execution_count": 18,
   "id": "98b1dd1e",
   "metadata": {},
   "outputs": [
    {
     "name": "stdout",
     "output_type": "stream",
     "text": [
      "3511\n"
     ]
    }
   ],
   "source": [
    "print(len(response.json()['data']['problemsetQuestionList']['questions']))"
   ]
  },
  {
   "cell_type": "code",
   "execution_count": 19,
   "id": "02195bdf",
   "metadata": {},
   "outputs": [],
   "source": [
    "import json\n",
    "json_data = response.json()\n",
    "\n",
    "with open('./leetcode_problemset.json', 'w', encoding='utf-8') as f:\n",
    "    json.dump(json_data, f, indent=4)"
   ]
  },
  {
   "cell_type": "code",
   "execution_count": null,
   "id": "226a691b",
   "metadata": {},
   "outputs": [
    {
     "name": "stdout",
     "output_type": "stream",
     "text": [
      "acRate : 55.32585431246137\n",
      "difficulty : Easy\n",
      "freqBar : None\n",
      "frontendQuestionId : 1\n",
      "isFavor : False\n",
      "paidOnly : False\n",
      "status : None\n",
      "title : Two Sum\n",
      "titleSlug : two-sum\n",
      "topicTags : [{'name': 'Array', 'id': 'VG9waWNUYWdOb2RlOjU=', 'slug': 'array'}, {'name': 'Hash Table', 'id': 'VG9waWNUYWdOb2RlOjY=', 'slug': 'hash-table'}]\n",
      "hasSolution : True\n",
      "hasVideoSolution : True\n"
     ]
    }
   ],
   "source": [
    "# Trial run\n",
    "for key, val in response.json()['data']['problemsetQuestionList']['questions'][0].items():\n",
    "    print(f'{key} : {val}')"
   ]
  }
 ],
 "metadata": {
  "kernelspec": {
   "display_name": "Python 3",
   "language": "python",
   "name": "python3"
  },
  "language_info": {
   "codemirror_mode": {
    "name": "ipython",
    "version": 3
   },
   "file_extension": ".py",
   "mimetype": "text/x-python",
   "name": "python",
   "nbconvert_exporter": "python",
   "pygments_lexer": "ipython3",
   "version": "3.13.2"
  }
 },
 "nbformat": 4,
 "nbformat_minor": 5
}
